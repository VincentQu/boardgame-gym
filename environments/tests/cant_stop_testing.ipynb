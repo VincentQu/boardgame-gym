{
 "cells": [
  {
   "cell_type": "code",
   "execution_count": 1,
   "id": "initial_id",
   "metadata": {
    "collapsed": true,
    "ExecuteTime": {
     "end_time": "2024-07-03T09:28:38.480736Z",
     "start_time": "2024-07-03T09:28:38.351029Z"
    }
   },
   "outputs": [],
   "source": [
    "import gymnasium as gym\n",
    "from environments import CantStopEnv, CantStopActionSpace\n",
    "\n",
    "import numpy as np"
   ]
  },
  {
   "cell_type": "code",
   "execution_count": 2,
   "outputs": [],
   "source": [
    "cs = CantStopEnv(num_players=3)"
   ],
   "metadata": {
    "collapsed": false,
    "ExecuteTime": {
     "end_time": "2024-07-03T09:05:18.082366Z",
     "start_time": "2024-07-03T09:05:18.079973Z"
    }
   },
   "id": "4790b1e2208b3fe1"
  },
  {
   "cell_type": "code",
   "execution_count": 6,
   "outputs": [
    {
     "name": "stdout",
     "output_type": "stream",
     "text": [
      "[5 6 1 5]\n",
      "[(11, 6), (6, 11), (10, 7)]\n"
     ]
    }
   ],
   "source": [
    "dice = cs.roll_dice()\n",
    "print(dice)\n",
    "combinations = cs._get_dice_combinations(dice)\n",
    "print(combinations)"
   ],
   "metadata": {
    "collapsed": false,
    "ExecuteTime": {
     "end_time": "2024-07-03T09:06:44.116659Z",
     "start_time": "2024-07-03T09:06:44.108573Z"
    }
   },
   "id": "e98fb5c5d135bcd7"
  },
  {
   "cell_type": "code",
   "execution_count": 13,
   "outputs": [],
   "source": [
    "csas = CantStopActionSpace()\n",
    "for _ in range(100000): \n",
    "    sample = csas.sample()\n",
    "    if not csas.contains(sample):\n",
    "        print(sample)"
   ],
   "metadata": {
    "collapsed": false,
    "ExecuteTime": {
     "end_time": "2024-07-03T09:29:52.222982Z",
     "start_time": "2024-07-03T09:29:51.554410Z"
    }
   },
   "id": "95bad94ef721ce28"
  },
  {
   "cell_type": "code",
   "execution_count": 9,
   "outputs": [
    {
     "data": {
      "text/plain": "[['$'], ['%/&'], [' ']]"
     },
     "execution_count": 9,
     "metadata": {},
     "output_type": "execute_result"
    }
   ],
   "source": [
    "two_col = [[' ']] * 3\n",
    "two_col[0] = ['$']\n",
    "two_col[1] = ['%/&']\n",
    "two_col"
   ],
   "metadata": {
    "collapsed": false,
    "ExecuteTime": {
     "end_time": "2024-07-02T12:37:27.846155Z",
     "start_time": "2024-07-02T12:37:27.840098Z"
    }
   },
   "id": "db483a9edd8d1108"
  },
  {
   "cell_type": "code",
   "execution_count": 18,
   "outputs": [
    {
     "data": {
      "text/plain": "{0: {2: None,\n  3: None,\n  4: None,\n  5: None,\n  6: None,\n  7: None,\n  8: None,\n  9: None,\n  10: None,\n  11: None,\n  12: None},\n 1: {2: None,\n  3: None,\n  4: None,\n  5: None,\n  6: None,\n  7: None,\n  8: None,\n  9: None,\n  10: None,\n  11: None,\n  12: None},\n 2: {2: None,\n  3: None,\n  4: None,\n  5: None,\n  6: None,\n  7: None,\n  8: None,\n  9: None,\n  10: None,\n  11: None,\n  12: None}}"
     },
     "execution_count": 18,
     "metadata": {},
     "output_type": "execute_result"
    }
   ],
   "source": [
    "num_players = 3\n",
    "columns = np.arange(start=2, stop=13)\n",
    "\n",
    "player_marker_positions = {p: {c: None for c in columns} for p in range(num_players)}\n",
    "player_marker_positions"
   ],
   "metadata": {
    "collapsed": false,
    "ExecuteTime": {
     "end_time": "2024-07-02T12:44:29.875100Z",
     "start_time": "2024-07-02T12:44:29.871605Z"
    }
   },
   "id": "a9f30960e9e20e1a"
  },
  {
   "cell_type": "code",
   "execution_count": null,
   "outputs": [],
   "source": [],
   "metadata": {
    "collapsed": false
   },
   "id": "77938aba0bb1617"
  }
 ],
 "metadata": {
  "kernelspec": {
   "name": "boardgame-gym",
   "language": "python",
   "display_name": "Python (boardgame-gym)"
  },
  "language_info": {
   "codemirror_mode": {
    "name": "ipython",
    "version": 2
   },
   "file_extension": ".py",
   "mimetype": "text/x-python",
   "name": "python",
   "nbconvert_exporter": "python",
   "pygments_lexer": "ipython2",
   "version": "2.7.6"
  }
 },
 "nbformat": 4,
 "nbformat_minor": 5
}
