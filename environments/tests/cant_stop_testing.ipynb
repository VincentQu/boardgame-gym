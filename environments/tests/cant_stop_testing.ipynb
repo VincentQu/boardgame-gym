{
 "cells": [
  {
   "cell_type": "code",
   "execution_count": 9,
   "id": "initial_id",
   "metadata": {
    "collapsed": true,
    "ExecuteTime": {
     "end_time": "2024-07-10T16:57:01.618903Z",
     "start_time": "2024-07-10T16:57:01.608513Z"
    }
   },
   "outputs": [],
   "source": [
    "import gymnasium as gym\n",
    "from environments import CantStopEnv, CantStopActionSpace\n",
    "\n",
    "import numpy as np"
   ]
  },
  {
   "cell_type": "code",
   "execution_count": 14,
   "outputs": [
    {
     "name": "stdout",
     "output_type": "stream",
     "text": [
      "[2 2 4 5]\n"
     ]
    },
    {
     "data": {
      "text/plain": "{(4, 9), (6, 7)}"
     },
     "execution_count": 14,
     "metadata": {},
     "output_type": "execute_result"
    }
   ],
   "source": [
    "cs = CantStopEnv(num_players=3)\n",
    "cs.roll_dice()\n",
    "cs.dice\n",
    "print(cs.dice)\n",
    "cs._get_dice_combinations()"
   ],
   "metadata": {
    "collapsed": false,
    "ExecuteTime": {
     "end_time": "2024-07-10T16:57:49.881047Z",
     "start_time": "2024-07-10T16:57:49.871449Z"
    }
   },
   "id": "a84abdf92fe4ac71"
  },
  {
   "cell_type": "code",
   "execution_count": 17,
   "outputs": [
    {
     "name": "stdout",
     "output_type": "stream",
     "text": [
      "{2, 3, 4, 6, 8, 9, 10, 11, 12}\n"
     ]
    },
    {
     "data": {
      "text/plain": "[(4, 9), (6,)]"
     },
     "execution_count": 17,
     "metadata": {},
     "output_type": "execute_result"
    }
   ],
   "source": [
    "# cs.tmp_marker_positions[3] = 4\n",
    "# cs.tmp_marker_positions[7] = 12\n",
    "cs.tmp_marker_positions[5] = 8\n",
    "cs.player_marker_positions[0][7] = 12\n",
    "# cs.tmp_marker_positions[6] = 8\n",
    "print(cs._get_available_columns())\n",
    "cs._get_possible_moves()"
   ],
   "metadata": {
    "collapsed": false,
    "ExecuteTime": {
     "end_time": "2024-07-10T16:59:31.140405Z",
     "start_time": "2024-07-10T16:59:31.130684Z"
    }
   },
   "id": "2cfe01f33634e52e"
  },
  {
   "cell_type": "code",
   "execution_count": 5,
   "outputs": [
    {
     "data": {
      "text/plain": "1"
     },
     "execution_count": 5,
     "metadata": {},
     "output_type": "execute_result"
    }
   ],
   "source": [
    "tmp_pos = cs.tmp_marker_positions\n",
    "tmp_pos[4] = 2\n",
    "tmp_pos[5] = 9\n",
    "free_temp_markers = 3 - sum(level is not None for level in tmp_pos.values())\n",
    "free_temp_markers"
   ],
   "metadata": {
    "collapsed": false,
    "ExecuteTime": {
     "end_time": "2024-07-03T10:42:05.541375Z",
     "start_time": "2024-07-03T10:42:05.530756Z"
    }
   },
   "id": "32c9bc2e4df653c"
  },
  {
   "cell_type": "code",
   "execution_count": 6,
   "outputs": [
    {
     "data": {
      "text/plain": "[(6, 8), (6, 8), (4, 10)]"
     },
     "execution_count": 6,
     "metadata": {},
     "output_type": "execute_result"
    }
   ],
   "source": [
    "cs._get_possible_moves()"
   ],
   "metadata": {
    "collapsed": false,
    "ExecuteTime": {
     "end_time": "2024-07-03T10:42:20.795685Z",
     "start_time": "2024-07-03T10:42:20.784290Z"
    }
   },
   "id": "265a7b036ae88589"
  },
  {
   "cell_type": "code",
   "execution_count": 3,
   "outputs": [
    {
     "data": {
      "text/plain": "{0: {2: None,\n  3: 4,\n  4: None,\n  5: None,\n  6: None,\n  7: None,\n  8: None,\n  9: None,\n  10: None,\n  11: None,\n  12: None},\n 1: {2: None,\n  3: 2,\n  4: None,\n  5: None,\n  6: None,\n  7: None,\n  8: None,\n  9: None,\n  10: None,\n  11: None,\n  12: None},\n 2: {2: None,\n  3: None,\n  4: None,\n  5: None,\n  6: None,\n  7: 12,\n  8: None,\n  9: None,\n  10: None,\n  11: None,\n  12: None}}"
     },
     "execution_count": 3,
     "metadata": {},
     "output_type": "execute_result"
    }
   ],
   "source": [
    "cs.player_marker_positions[1][3] = 2 # middle pos, player 1, column 3\n",
    "cs.player_marker_positions[2][7] = 12 # top pos, player 2, column 7\n",
    "cs.player_marker_positions[0][3] = 4\n",
    "cs.player_marker_positions"
   ],
   "metadata": {
    "collapsed": false,
    "ExecuteTime": {
     "end_time": "2024-07-03T10:03:53.461047Z",
     "start_time": "2024-07-03T10:03:53.452996Z"
    }
   },
   "id": "ac4c189fbb1d84d"
  },
  {
   "cell_type": "code",
   "execution_count": 4,
   "outputs": [
    {
     "data": {
      "text/plain": "array([ 2,  4,  5,  6,  8,  9, 10, 11, 12])"
     },
     "execution_count": 4,
     "metadata": {},
     "output_type": "execute_result"
    }
   ],
   "source": [
    "cs._get_available_columns()"
   ],
   "metadata": {
    "collapsed": false,
    "ExecuteTime": {
     "end_time": "2024-07-03T10:04:10.741861Z",
     "start_time": "2024-07-03T10:04:10.735450Z"
    }
   },
   "id": "6fac3223ceccf11"
  },
  {
   "cell_type": "code",
   "execution_count": 7,
   "outputs": [
    {
     "data": {
      "text/plain": "{2: 3, 3: 5, 4: 7, 5: 9, 6: 11, 7: 13, 8: 11, 9: 9, 10: 7, 11: 5, 12: 3}"
     },
     "execution_count": 7,
     "metadata": {},
     "output_type": "execute_result"
    }
   ],
   "source": [
    "any(cs.player_marker_positions[player][column] == cs.column_lengths - 1 for column in player for player, column in cs.player_marker_positions.values())"
   ],
   "metadata": {
    "collapsed": false,
    "ExecuteTime": {
     "end_time": "2024-07-03T09:50:25.486597Z",
     "start_time": "2024-07-03T09:50:25.476181Z"
    }
   },
   "id": "e92c1b2650eaf505"
  },
  {
   "cell_type": "code",
   "execution_count": null,
   "outputs": [],
   "source": [],
   "metadata": {
    "collapsed": false
   },
   "id": "7229cf32242668a6"
  },
  {
   "cell_type": "code",
   "execution_count": 6,
   "outputs": [
    {
     "name": "stdout",
     "output_type": "stream",
     "text": [
      "[5 6 1 5]\n",
      "[(11, 6), (6, 11), (10, 7)]\n"
     ]
    }
   ],
   "source": [
    "dice = cs.roll_dice()\n",
    "print(dice)\n",
    "combos = cs._get_dice_combinations(dice)\n",
    "print(combos)"
   ],
   "metadata": {
    "collapsed": false,
    "ExecuteTime": {
     "end_time": "2024-07-03T09:06:44.116659Z",
     "start_time": "2024-07-03T09:06:44.108573Z"
    }
   },
   "id": "e98fb5c5d135bcd7"
  },
  {
   "cell_type": "code",
   "execution_count": 13,
   "outputs": [],
   "source": [
    "csas = CantStopActionSpace()\n",
    "for _ in range(100000): \n",
    "    sample = csas.sample()\n",
    "    if not csas.contains(sample):\n",
    "        print(sample)"
   ],
   "metadata": {
    "collapsed": false,
    "ExecuteTime": {
     "end_time": "2024-07-03T09:29:52.222982Z",
     "start_time": "2024-07-03T09:29:51.554410Z"
    }
   },
   "id": "95bad94ef721ce28"
  },
  {
   "cell_type": "code",
   "execution_count": 9,
   "outputs": [
    {
     "data": {
      "text/plain": "[['$'], ['%/&'], [' ']]"
     },
     "execution_count": 9,
     "metadata": {},
     "output_type": "execute_result"
    }
   ],
   "source": [
    "two_col = [[' ']] * 3\n",
    "two_col[0] = ['$']\n",
    "two_col[1] = ['%/&']\n",
    "two_col"
   ],
   "metadata": {
    "collapsed": false,
    "ExecuteTime": {
     "end_time": "2024-07-02T12:37:27.846155Z",
     "start_time": "2024-07-02T12:37:27.840098Z"
    }
   },
   "id": "db483a9edd8d1108"
  },
  {
   "cell_type": "code",
   "execution_count": 18,
   "outputs": [
    {
     "data": {
      "text/plain": "{0: {2: None,\n  3: None,\n  4: None,\n  5: None,\n  6: None,\n  7: None,\n  8: None,\n  9: None,\n  10: None,\n  11: None,\n  12: None},\n 1: {2: None,\n  3: None,\n  4: None,\n  5: None,\n  6: None,\n  7: None,\n  8: None,\n  9: None,\n  10: None,\n  11: None,\n  12: None},\n 2: {2: None,\n  3: None,\n  4: None,\n  5: None,\n  6: None,\n  7: None,\n  8: None,\n  9: None,\n  10: None,\n  11: None,\n  12: None}}"
     },
     "execution_count": 18,
     "metadata": {},
     "output_type": "execute_result"
    }
   ],
   "source": [
    "num_players = 3\n",
    "columns = np.arange(start=2, stop=13)\n",
    "\n",
    "player_marker_positions = {p: {c: None for c in columns} for p in range(num_players)}\n",
    "player_marker_positions"
   ],
   "metadata": {
    "collapsed": false,
    "ExecuteTime": {
     "end_time": "2024-07-02T12:44:29.875100Z",
     "start_time": "2024-07-02T12:44:29.871605Z"
    }
   },
   "id": "a9f30960e9e20e1a"
  },
  {
   "cell_type": "code",
   "execution_count": 46,
   "outputs": [
    {
     "name": "stdout",
     "output_type": "stream",
     "text": [
      "B\n",
      "{6, 7}\n",
      "\n",
      "B\n",
      "{5}\n",
      "\n",
      "C\n",
      "[(9,), (4,)]\n"
     ]
    }
   ],
   "source": [
    "from itertools import combinations, permutations\n",
    "\n",
    "available_columns = set([2, 3, 4, 5, 6, 7, 9, 10, 11, 12])\n",
    "tmp_columns = set([6, 12])\n",
    "free_tmp_markers = 3 - len(tmp_columns)\n",
    "\n",
    "combos = [(6, 7), (5, 8), (4, 9)]\n",
    "\n",
    "for comb in combos:\n",
    "    comb_avail = set(comb) & available_columns\n",
    "    if len(comb_avail) == 0: continue\n",
    "    if free_tmp_markers == 0:\n",
    "        print('A')\n",
    "        print(comb_avail & tmp_columns)\n",
    "        print()\n",
    "        continue\n",
    "    \n",
    "    if len(comb_avail - tmp_columns) <= free_tmp_markers:\n",
    "        print('B')\n",
    "        print(comb_avail)\n",
    "        print()\n",
    "        continue\n",
    "    \n",
    "    print('C')\n",
    "    print(list(combinations(comb_avail - tmp_columns, free_tmp_markers)))\n",
    "    print()\n",
    "    # len(comb_avail & tmp_columns)\n",
    "    # print(comb_avail)"
   ],
   "metadata": {
    "collapsed": false,
    "ExecuteTime": {
     "end_time": "2024-07-10T12:04:09.784819Z",
     "start_time": "2024-07-10T12:04:09.777335Z"
    }
   },
   "id": "77938aba0bb1617"
  },
  {
   "cell_type": "code",
   "execution_count": 24,
   "outputs": [
    {
     "data": {
      "text/plain": "{2, 9}"
     },
     "execution_count": 24,
     "metadata": {},
     "output_type": "execute_result"
    }
   ],
   "source": [
    "a = set([2, 3, 9, 4])\n",
    "b = set([3, 4, 5])\n",
    "a - b"
   ],
   "metadata": {
    "collapsed": false,
    "ExecuteTime": {
     "end_time": "2024-07-10T11:49:32.775818Z",
     "start_time": "2024-07-10T11:49:32.768236Z"
    }
   },
   "id": "6b757281c43d5ac"
  }
 ],
 "metadata": {
  "kernelspec": {
   "name": "boardgame-gym",
   "language": "python",
   "display_name": "Python (boardgame-gym)"
  },
  "language_info": {
   "codemirror_mode": {
    "name": "ipython",
    "version": 2
   },
   "file_extension": ".py",
   "mimetype": "text/x-python",
   "name": "python",
   "nbconvert_exporter": "python",
   "pygments_lexer": "ipython2",
   "version": "2.7.6"
  }
 },
 "nbformat": 4,
 "nbformat_minor": 5
}
