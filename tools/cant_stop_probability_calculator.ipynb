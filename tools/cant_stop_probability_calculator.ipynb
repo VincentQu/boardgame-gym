{
 "cells": [
  {
   "cell_type": "code",
   "execution_count": 1,
   "outputs": [],
   "source": [
    "from itertools import combinations, product "
   ],
   "metadata": {
    "collapsed": false,
    "ExecuteTime": {
     "end_time": "2024-09-24T14:24:40.587126Z",
     "start_time": "2024-09-24T14:24:40.583552Z"
    }
   },
   "id": "87003bb3d136fc7f"
  },
  {
   "cell_type": "code",
   "execution_count": 2,
   "outputs": [],
   "source": [
    "def get_dice_sums(dice):\n",
    "    return {sum(pair) for pair in combinations(dice, 2)}\n",
    "    "
   ],
   "metadata": {
    "collapsed": false,
    "ExecuteTime": {
     "end_time": "2024-09-24T14:24:41.450007Z",
     "start_time": "2024-09-24T14:24:41.432278Z"
    }
   },
   "id": "15160cee500c722b"
  },
  {
   "cell_type": "code",
   "execution_count": 3,
   "outputs": [],
   "source": [
    "def calculate_dice_probability(columns, n_dice=4, dice_size=6):\n",
    "    hits = 0 \n",
    "    total_combinations = dice_size**n_dice\n",
    "    \n",
    "    for dice in product(range(1, 7), repeat=n_dice):\n",
    "        sums = get_dice_sums(dice)\n",
    "        if len(sums & columns) > 0:\n",
    "            hits += 1\n",
    "    prob = hits / total_combinations\n",
    "    return prob\n",
    "    "
   ],
   "metadata": {
    "collapsed": false,
    "ExecuteTime": {
     "end_time": "2024-09-24T14:24:41.867024Z",
     "start_time": "2024-09-24T14:24:41.857471Z"
    }
   },
   "id": "d09dc5507c2cbc60"
  },
  {
   "cell_type": "code",
   "execution_count": 8,
   "outputs": [
    {
     "name": "stdout",
     "output_type": "stream",
     "text": [
      "Columns: 2, 3, 12\n",
      "Chance to hit at least one column: 0.4383\n"
     ]
    }
   ],
   "source": [
    "COLUMNS = {2, 12, 3}\n",
    "\n",
    "prob = calculate_dice_probability(COLUMNS)\n",
    "print(f\"Columns: {', '.join(map(str, sorted(COLUMNS)))}\")\n",
    "print(f\"Chance to hit at least one column: {prob:.4f}\")"
   ],
   "metadata": {
    "collapsed": false,
    "ExecuteTime": {
     "end_time": "2024-09-24T14:27:27.618940Z",
     "start_time": "2024-09-24T14:27:27.601599Z"
    }
   },
   "id": "a80d5cf93cce62a0"
  }
 ],
 "metadata": {
  "kernelspec": {
   "name": "boardgame-gym",
   "language": "python",
   "display_name": "Python (boardgame-gym)"
  },
  "language_info": {
   "codemirror_mode": {
    "name": "ipython",
    "version": 2
   },
   "file_extension": ".py",
   "mimetype": "text/x-python",
   "name": "python",
   "nbconvert_exporter": "python",
   "pygments_lexer": "ipython2",
   "version": "2.7.6"
  }
 },
 "nbformat": 4,
 "nbformat_minor": 5
}
